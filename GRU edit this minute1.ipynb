{
  "nbformat": 4,
  "nbformat_minor": 0,
  "metadata": {
    "colab": {
      "name": "GRU.ipynb",
      "version": "0.3.2",
      "provenance": [],
      "collapsed_sections": [],
      "include_colab_link": true
    },
    "kernelspec": {
      "name": "python3",
      "display_name": "Python 3"
    }
  },
  "cells": [
    {
      "cell_type": "markdown",
      "metadata": {
        "id": "view-in-github",
        "colab_type": "text"
      },
      "source": [
        "<a href=\"https://colab.research.google.com/github/shanksghub/Minute-by-Minute-Price-prediction/blob/master/GRU%20edit%20this%20minute1.ipynb\" target=\"_parent\"><img src=\"https://colab.research.google.com/assets/colab-badge.svg\" alt=\"Open In Colab\"/></a>"
      ]
    },
    {
      "cell_type": "code",
      "metadata": {
        "id": "ttn36lvBgK7R",
        "colab_type": "code",
        "colab": {}
      },
      "source": [
        "\n",
        "\n",
        "\n",
        "\n",
        "#import all libraries\n",
        "import numpy as np\n",
        "import pandas as pd\n",
        "import math\n",
        "import sklearn\n",
        "import sklearn.preprocessing\n",
        "import datetime\n",
        "import os\n",
        "import matplotlib.pyplot as plt\n",
        "import tensorflow as tf\n",
        "\n",
        "\n",
        "\n",
        "\n",
        "url1 = 'https://raw.githubusercontent.com/shanksghub/Minute-by-Minute-Price-prediction/master/IBM.1Min.TradesOnly.20160128.csv'\n",
        "\n",
        "\n",
        "# import dataset \n",
        "a = pd.read_csv(url1)\n",
        "\n",
        "\n",
        "\n",
        "a.head()\n",
        "a =a.drop(columns=['Ticker','TimeBarStart','Date'])\n"
      ],
      "execution_count": 0,
      "outputs": []
    },
    {
      "cell_type": "code",
      "metadata": {
        "id": "08eOYQ2rBQhb",
        "colab_type": "code",
        "outputId": "9c5b8222-fa71-4f8e-fd23-2f6419c376fe",
        "colab": {
          "base_uri": "https://localhost:8080/",
          "height": 206
        }
      },
      "source": [
        "a.head()"
      ],
      "execution_count": 45,
      "outputs": [
        {
          "output_type": "execute_result",
          "data": {
            "text/html": [
              "<div>\n",
              "<style scoped>\n",
              "    .dataframe tbody tr th:only-of-type {\n",
              "        vertical-align: middle;\n",
              "    }\n",
              "\n",
              "    .dataframe tbody tr th {\n",
              "        vertical-align: top;\n",
              "    }\n",
              "\n",
              "    .dataframe thead th {\n",
              "        text-align: right;\n",
              "    }\n",
              "</style>\n",
              "<table border=\"1\" class=\"dataframe\">\n",
              "  <thead>\n",
              "    <tr style=\"text-align: right;\">\n",
              "      <th></th>\n",
              "      <th>FirstTradePrice</th>\n",
              "      <th>HighTradePrice</th>\n",
              "      <th>LowTradePrice</th>\n",
              "      <th>LastTradePrice</th>\n",
              "      <th>VolumeWeightPrice</th>\n",
              "      <th>Volume</th>\n",
              "      <th>TotalTrades</th>\n",
              "    </tr>\n",
              "  </thead>\n",
              "  <tbody>\n",
              "    <tr>\n",
              "      <th>0</th>\n",
              "      <td>121.99</td>\n",
              "      <td>121.99</td>\n",
              "      <td>121.95</td>\n",
              "      <td>121.95</td>\n",
              "      <td>121.97000</td>\n",
              "      <td>64</td>\n",
              "      <td>2</td>\n",
              "    </tr>\n",
              "    <tr>\n",
              "      <th>1</th>\n",
              "      <td>121.00</td>\n",
              "      <td>121.78</td>\n",
              "      <td>121.00</td>\n",
              "      <td>121.78</td>\n",
              "      <td>121.37818</td>\n",
              "      <td>132</td>\n",
              "      <td>5</td>\n",
              "    </tr>\n",
              "    <tr>\n",
              "      <th>2</th>\n",
              "      <td>121.00</td>\n",
              "      <td>121.00</td>\n",
              "      <td>120.88</td>\n",
              "      <td>120.88</td>\n",
              "      <td>120.92000</td>\n",
              "      <td>273</td>\n",
              "      <td>4</td>\n",
              "    </tr>\n",
              "    <tr>\n",
              "      <th>3</th>\n",
              "      <td>120.88</td>\n",
              "      <td>120.88</td>\n",
              "      <td>120.88</td>\n",
              "      <td>120.88</td>\n",
              "      <td>120.88000</td>\n",
              "      <td>500</td>\n",
              "      <td>4</td>\n",
              "    </tr>\n",
              "    <tr>\n",
              "      <th>4</th>\n",
              "      <td>120.88</td>\n",
              "      <td>120.88</td>\n",
              "      <td>120.88</td>\n",
              "      <td>120.88</td>\n",
              "      <td>120.88000</td>\n",
              "      <td>3</td>\n",
              "      <td>1</td>\n",
              "    </tr>\n",
              "  </tbody>\n",
              "</table>\n",
              "</div>"
            ],
            "text/plain": [
              "   FirstTradePrice  HighTradePrice  ...  Volume  TotalTrades\n",
              "0           121.99          121.99  ...      64            2\n",
              "1           121.00          121.78  ...     132            5\n",
              "2           121.00          121.00  ...     273            4\n",
              "3           120.88          120.88  ...     500            4\n",
              "4           120.88          120.88  ...       3            1\n",
              "\n",
              "[5 rows x 7 columns]"
            ]
          },
          "metadata": {
            "tags": []
          },
          "execution_count": 45
        }
      ]
    },
    {
      "cell_type": "code",
      "metadata": {
        "id": "dbVCNjWEADzy",
        "colab_type": "code",
        "colab": {}
      },
      "source": [
        "\n",
        "# data scaling (normalizing)\n",
        "def normalize_data(a):\n",
        "    min_max_scaler = sklearn.preprocessing.MinMaxScaler()\n",
        "    a['FirstTradePrice'] = min_max_scaler.fit_transform(a.FirstTradePrice.values.reshape(-1,1))\n",
        "    a['HighTradePrice'] = min_max_scaler.fit_transform(a.HighTradePrice.values.reshape(-1,1))\n",
        "    a['LowTradePrice'] = min_max_scaler.fit_transform(a.LowTradePrice.values.reshape(-1,1))\n",
        "    a['LastTradePrice'] = min_max_scaler.fit_transform(a['LastTradePrice'].values.reshape(-1,1))\n",
        "    return a\n",
        "a_norm = a.copy()\n",
        "a_norm = normalize_data(a_norm)\n"
      ],
      "execution_count": 0,
      "outputs": []
    },
    {
      "cell_type": "code",
      "metadata": {
        "id": "Z8FlKRFTAD3b",
        "colab_type": "code",
        "colab": {}
      },
      "source": [
        "# Splitting the dataset into Train, Valid & test data \n",
        "valid_set_size_percentage = 10 \n",
        "test_set_size_percentage = 10 \n",
        "seq_len = 20 # taken sequence length as 20\n",
        "def load_data(a, seq_len):\n",
        "    data_raw = a.as_matrix() \n",
        "    data = [] \n",
        "    for index in range(len(data_raw) - seq_len): \n",
        "        data.append(data_raw[index: index + seq_len])\n",
        "    data = np.array(data);\n",
        "    valid_set_size = int(np.round(valid_set_size_percentage/100*data.shape[1]));  \n",
        "    test_set_size = int(np.round(test_set_size_percentage/100*data.shape[1]));\n",
        "    train_set_size = data.shape[0] - (valid_set_size + test_set_size);\n",
        "    x_train = data[:train_set_size,:-1,:]\n",
        "    y_train = data[:train_set_size,-1,:]\n",
        "    x_valid = data[train_set_size:train_set_size+valid_set_size,:-1,:]\n",
        "    y_valid = data[train_set_size:train_set_size+valid_set_size,-1,:]\n",
        "    x_test = data[train_set_size+valid_set_size:,:-1,:]\n",
        "    y_test = data[train_set_size+valid_set_size:,-1,:]\n",
        "    return [x_train, y_train, x_valid, y_valid, x_test, y_test]\n"
      ],
      "execution_count": 0,
      "outputs": []
    },
    {
      "cell_type": "code",
      "metadata": {
        "id": "NifQs4JTAD7C",
        "colab_type": "code",
        "outputId": "8608cdbc-453d-463f-cc3e-14e6ecefaa4a",
        "colab": {
          "base_uri": "https://localhost:8080/",
          "height": 176
        }
      },
      "source": [
        "\n",
        "x_train, y_train, x_valid, y_valid, x_test, y_test = load_data(a_norm, seq_len)\n",
        "print('x_train.shape = ',x_train.shape)\n",
        "print('y_train.shape = ', y_train.shape)\n",
        "print('x_valid.shape = ',x_valid.shape)\n",
        "print('y_valid.shape = ', y_valid.shape)\n",
        "print('x_test.shape = ', x_test.shape)\n",
        "print('y_test.shape = ',y_test.shape)\n",
        "\n"
      ],
      "execution_count": 49,
      "outputs": [
        {
          "output_type": "stream",
          "text": [
            "x_train.shape =  (388, 19, 7)\n",
            "y_train.shape =  (388, 7)\n",
            "x_valid.shape =  (2, 19, 7)\n",
            "y_valid.shape =  (2, 7)\n",
            "x_test.shape =  (2, 19, 7)\n",
            "y_test.shape =  (2, 7)\n"
          ],
          "name": "stdout"
        },
        {
          "output_type": "stream",
          "text": [
            "/usr/local/lib/python3.6/dist-packages/ipykernel_launcher.py:5: FutureWarning: Method .as_matrix will be removed in a future version. Use .values instead.\n",
            "  \"\"\"\n"
          ],
          "name": "stderr"
        }
      ]
    },
    {
      "cell_type": "code",
      "metadata": {
        "id": "J4QjlC-WAEAE",
        "colab_type": "code",
        "colab": {}
      },
      "source": [
        "\n",
        "n_steps = seq_len-1 \n",
        "n_inputs = 7\n",
        "n_neurons = 2000\n",
        "n_outputs = 7\n",
        "n_layers = 20000\n",
        "learning_rate = 0.001\n",
        "batch_size = 5\n",
        "n_epochs = 10\n",
        "train_set_size = x_train.shape[0]\n",
        "test_set_size = x_test.shape[0]\n",
        "tf.reset_default_graph()\n",
        "X = tf.placeholder(tf.float32, [None, n_steps, n_inputs])\n",
        "y = tf.placeholder(tf.float32, [None, n_outputs])"
      ],
      "execution_count": 0,
      "outputs": []
    },
    {
      "cell_type": "code",
      "metadata": {
        "id": "Ka1hFBy8AECl",
        "colab_type": "code",
        "colab": {}
      },
      "source": [
        "\n",
        "\n",
        "index_in_epoch = 0;\n",
        "perm_array  = np.arange(x_train.shape[0])\n",
        "np.random.shuffle(perm_array)\n",
        "\n",
        "def get_next_batch(batch_size):\n",
        "    global index_in_epoch, x_train, perm_array   \n",
        "    start = index_in_epoch\n",
        "    index_in_epoch += batch_size \n",
        "    if index_in_epoch > x_train.shape[0]:\n",
        "        np.random.shuffle(perm_array) # shuffle permutation array\n",
        "        start = 0 # start next epoch\n",
        "        index_in_epoch = batch_size     \n",
        "    end = index_in_epoch\n",
        "    return x_train[perm_array[start:end]], y_train[perm_array[start:end]]\n"
      ],
      "execution_count": 0,
      "outputs": []
    },
    {
      "cell_type": "code",
      "metadata": {
        "id": "QIm4EwhGAEHK",
        "colab_type": "code",
        "colab": {}
      },
      "source": [
        "\n",
        "#GRU \n",
        "layers = [tf.contrib.rnn.GRUCell(num_units=n_neurons, activation=tf.nn.relu)\n",
        "          for layer in range(n_layers)] "
      ],
      "execution_count": 0,
      "outputs": []
    },
    {
      "cell_type": "code",
      "metadata": {
        "id": "uG-Oil8gAENK",
        "colab_type": "code",
        "colab": {}
      },
      "source": [
        "                                                                  \n",
        "multi_layer_cell = tf.contrib.rnn.MultiRNNCell(layers)\n",
        "rnn_outputs, states = tf.nn.dynamic_rnn(multi_layer_cell, X, dtype=tf.float32)\n",
        "stacked_rnn_outputs = tf.reshape(rnn_outputs, [-1, n_neurons]) \n",
        "stacked_outputs = tf.layers.dense(stacked_rnn_outputs, n_outputs)\n",
        "outputs = tf.reshape(stacked_outputs, [-1, n_steps, n_outputs])\n",
        "outputs = outputs[:,n_steps-1,:]\n",
        "                                              "
      ],
      "execution_count": 0,
      "outputs": []
    },
    {
      "cell_type": "code",
      "metadata": {
        "id": "21bikMECAEQO",
        "colab_type": "code",
        "colab": {}
      },
      "source": [
        "# Cost function\n",
        "loss = tf.reduce_mean(tf.square(outputs - y))\n",
        "\n",
        "#optimizer\n",
        "optimizer = tf.train.AdamOptimizer(learning_rate=learning_rate) \n",
        "training_op = optimizer.minimize(loss)"
      ],
      "execution_count": 0,
      "outputs": []
    },
    {
      "cell_type": "code",
      "metadata": {
        "id": "9EWcxPvMxGA6",
        "colab_type": "code",
        "colab": {}
      },
      "source": [
        "\n"
      ],
      "execution_count": 0,
      "outputs": []
    },
    {
      "cell_type": "code",
      "metadata": {
        "id": "pcJoFQgZAES_",
        "colab_type": "code",
        "outputId": "a7358f47-bf52-45e4-9e66-74cbfa73d40b",
        "colab": {
          "base_uri": "https://localhost:8080/",
          "height": 364
        }
      },
      "source": [
        "\n",
        "                                              \n",
        "# Fitting the model\n",
        "with tf.Session() as sess: \n",
        "    sess.run(tf.global_variables_initializer())\n",
        "    for iteration in range(int(n_epochs*train_set_size/batch_size)):\n",
        "        x_batch, y_batch = get_next_batch(batch_size) # fetch the next training batch \n",
        "        sess.run(training_op, feed_dict={X: x_batch, y: y_batch}) \n",
        "        if iteration % int(5*train_set_size/batch_size) == 0:\n",
        "            mse_train = loss.eval(feed_dict={X: x_train, y: y_train}) \n",
        "            mse_valid = loss.eval(feed_dict={X: x_valid, y: y_valid}) \n",
        "            print('%.2f epochs: MSE train/valid = %.6f/%.6f'%(\n",
        "                iteration*batch_size/train_set_size, mse_train, mse_valid))\n",
        "            \n",
        "            # Predictions\n",
        "    y_test_pred = sess.run(outputs,feed_dict={X: x_test})\n",
        "    "
      ],
      "execution_count": 56,
      "outputs": [
        {
          "output_type": "stream",
          "text": [
            "0.00 epochs: MSE train/valid = 57020264.000000/13888928.000000\n",
            "5.00 epochs: MSE train/valid = 45186940.000000/107795248.000000\n",
            "10.00 epochs: MSE train/valid = 48138732.000000/42007204.000000\n",
            "15.00 epochs: MSE train/valid = 44264324.000000/145185216.000000\n",
            "20.00 epochs: MSE train/valid = 48018232.000000/163570608.000000\n",
            "25.00 epochs: MSE train/valid = 48048220.000000/62790860.000000\n",
            "30.00 epochs: MSE train/valid = 45954600.000000/83737640.000000\n",
            "35.00 epochs: MSE train/valid = 44873956.000000/81669912.000000\n",
            "40.00 epochs: MSE train/valid = 43872556.000000/170276304.000000\n",
            "45.00 epochs: MSE train/valid = 44502540.000000/123532232.000000\n",
            "50.00 epochs: MSE train/valid = 45897584.000000/269723552.000000\n",
            "55.00 epochs: MSE train/valid = 45703240.000000/22463364.000000\n",
            "60.00 epochs: MSE train/valid = 43998948.000000/48816544.000000\n",
            "65.00 epochs: MSE train/valid = 43210512.000000/95348696.000000\n",
            "70.00 epochs: MSE train/valid = 43634664.000000/82373136.000000\n",
            "75.00 epochs: MSE train/valid = 43744064.000000/42013756.000000\n",
            "80.00 epochs: MSE train/valid = 44299944.000000/20961814.000000\n",
            "85.00 epochs: MSE train/valid = 44818032.000000/117831192.000000\n",
            "90.00 epochs: MSE train/valid = 50197752.000000/25592174.000000\n",
            "95.00 epochs: MSE train/valid = 46577404.000000/54242108.000000\n"
          ],
          "name": "stdout"
        }
      ]
    },
    {
      "cell_type": "code",
      "metadata": {
        "id": "a5I1-LtcAEVm",
        "colab_type": "code",
        "outputId": "fcd4db3d-90e5-46e7-e625-6b9d54e5720a",
        "colab": {
          "base_uri": "https://localhost:8080/",
          "height": 34
        }
      },
      "source": [
        "\n",
        "    \n",
        "#checking prediction output nos \n",
        "y_test_pred.shape\n"
      ],
      "execution_count": 57,
      "outputs": [
        {
          "output_type": "execute_result",
          "data": {
            "text/plain": [
              "(2, 7)"
            ]
          },
          "metadata": {
            "tags": []
          },
          "execution_count": 57
        }
      ]
    },
    {
      "cell_type": "code",
      "metadata": {
        "id": "F194mNxBAEX9",
        "colab_type": "code",
        "outputId": "2f27180e-ea17-4440-c295-b8b90f948499",
        "colab": {
          "base_uri": "https://localhost:8080/",
          "height": 323
        }
      },
      "source": [
        "\n",
        "# ploting the graph\n",
        "comp = pd.DataFrame({'Column1':y_test[:,1],'Column3':y_test_pred[:,1]})\n",
        "plt.figure(figsize=(10,5))\n",
        "plt.plot(comp['Column1'], color='blue', label='Target')\n",
        "plt.plot(comp['Column3'], color='black', label='Prediction')\n",
        "plt.legend()\n",
        "plt.show()"
      ],
      "execution_count": 60,
      "outputs": [
        {
          "output_type": "display_data",
          "data": {
            "image/png": "[encoded data removed]",
            "text/plain": [
              "<Figure size 720x360 with 1 Axes>"
            ]
          },
          "metadata": {
            "tags": []
          }
        }
      ]
    },
    {
      "cell_type": "code",
      "metadata": {
        "id": "MeIQ92IjAEdH",
        "colab_type": "code",
        "colab": {}
      },
      "source": [
        ""
      ],
      "execution_count": 0,
      "outputs": []
    },
    {
      "cell_type": "code",
      "metadata": {
        "id": "rAjhz0i5AEfv",
        "colab_type": "code",
        "colab": {}
      },
      "source": [
        ""
      ],
      "execution_count": 0,
      "outputs": []
    }
  ]
}