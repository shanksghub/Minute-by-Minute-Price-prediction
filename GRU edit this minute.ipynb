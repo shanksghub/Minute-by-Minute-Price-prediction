{
  "nbformat": 4,
  "nbformat_minor": 0,
  "metadata": {
    "colab": {
      "name": "GRU.ipynb",
      "version": "0.3.2",
      "provenance": [],
      "collapsed_sections": [],
      "include_colab_link": true
    },
    "kernelspec": {
      "name": "python3",
      "display_name": "Python 3"
    }
  },
  "cells": [
    {
      "cell_type": "markdown",
      "metadata": {
        "id": "view-in-github",
        "colab_type": "text"
      },
      "source": [
        "<a href=\"https://colab.research.google.com/github/shanksghub/Minute-by-Minute-Price-prediction/blob/master/GRU%20edit%20this%20minute.ipynb\" target=\"_parent\"><img src=\"https://colab.research.google.com/assets/colab-badge.svg\" alt=\"Open In Colab\"/></a>"
      ]
    },
    {
      "cell_type": "code",
      "metadata": {
        "id": "ttn36lvBgK7R",
        "colab_type": "code",
        "colab": {}
      },
      "source": [
        "\n",
        "\n",
        "\n",
        "\n",
        "#import all libraries\n",
        "import numpy as np\n",
        "import pandas as pd\n",
        "import math\n",
        "import sklearn\n",
        "import sklearn.preprocessing\n",
        "import datetime\n",
        "import os\n",
        "import matplotlib.pyplot as plt\n",
        "import tensorflow as tf\n",
        "\n",
        "\n",
        "\n",
        "\n",
        "url1 = 'https://raw.githubusercontent.com/shanksghub/Minute-by-Minute-Price-prediction/master/IBM.1Min.TradesOnly.20160128.csv'\n",
        "\n",
        "\n",
        "# import dataset \n",
        "a = pd.read_csv(url1)\n",
        "\n",
        "\n",
        "\n",
        "df.head()\n",
        "a =df.drop(columns=['Ticker','TimeBarStart','Date'])\n"
      ],
      "execution_count": 0,
      "outputs": []
    },
    {
      "cell_type": "code",
      "metadata": {
        "id": "08eOYQ2rBQhb",
        "colab_type": "code",
        "outputId": "aa6ec76a-4e52-4382-ebaf-a687eeffe4c0",
        "colab": {
          "base_uri": "https://localhost:8080/",
          "height": 206
        }
      },
      "source": [
        "a.head()"
      ],
      "execution_count": 324,
      "outputs": [
        {
          "output_type": "execute_result",
          "data": {
            "text/html": [
              "<div>\n",
              "<style scoped>\n",
              "    .dataframe tbody tr th:only-of-type {\n",
              "        vertical-align: middle;\n",
              "    }\n",
              "\n",
              "    .dataframe tbody tr th {\n",
              "        vertical-align: top;\n",
              "    }\n",
              "\n",
              "    .dataframe thead th {\n",
              "        text-align: right;\n",
              "    }\n",
              "</style>\n",
              "<table border=\"1\" class=\"dataframe\">\n",
              "  <thead>\n",
              "    <tr style=\"text-align: right;\">\n",
              "      <th></th>\n",
              "      <th>FirstTradePrice</th>\n",
              "      <th>HighTradePrice</th>\n",
              "      <th>LowTradePrice</th>\n",
              "      <th>LastTradePrice</th>\n",
              "      <th>VolumeWeightPrice</th>\n",
              "      <th>Volume</th>\n",
              "      <th>TotalTrades</th>\n",
              "    </tr>\n",
              "  </thead>\n",
              "  <tbody>\n",
              "    <tr>\n",
              "      <th>0</th>\n",
              "      <td>121.99</td>\n",
              "      <td>121.99</td>\n",
              "      <td>121.95</td>\n",
              "      <td>121.95</td>\n",
              "      <td>121.97000</td>\n",
              "      <td>64</td>\n",
              "      <td>2</td>\n",
              "    </tr>\n",
              "    <tr>\n",
              "      <th>1</th>\n",
              "      <td>121.00</td>\n",
              "      <td>121.78</td>\n",
              "      <td>121.00</td>\n",
              "      <td>121.78</td>\n",
              "      <td>121.37818</td>\n",
              "      <td>132</td>\n",
              "      <td>5</td>\n",
              "    </tr>\n",
              "    <tr>\n",
              "      <th>2</th>\n",
              "      <td>121.00</td>\n",
              "      <td>121.00</td>\n",
              "      <td>120.88</td>\n",
              "      <td>120.88</td>\n",
              "      <td>120.92000</td>\n",
              "      <td>273</td>\n",
              "      <td>4</td>\n",
              "    </tr>\n",
              "    <tr>\n",
              "      <th>3</th>\n",
              "      <td>120.88</td>\n",
              "      <td>120.88</td>\n",
              "      <td>120.88</td>\n",
              "      <td>120.88</td>\n",
              "      <td>120.88000</td>\n",
              "      <td>500</td>\n",
              "      <td>4</td>\n",
              "    </tr>\n",
              "    <tr>\n",
              "      <th>4</th>\n",
              "      <td>120.88</td>\n",
              "      <td>120.88</td>\n",
              "      <td>120.88</td>\n",
              "      <td>120.88</td>\n",
              "      <td>120.88000</td>\n",
              "      <td>3</td>\n",
              "      <td>1</td>\n",
              "    </tr>\n",
              "  </tbody>\n",
              "</table>\n",
              "</div>"
            ],
            "text/plain": [
              "   FirstTradePrice  HighTradePrice  ...  Volume  TotalTrades\n",
              "0           121.99          121.99  ...      64            2\n",
              "1           121.00          121.78  ...     132            5\n",
              "2           121.00          121.00  ...     273            4\n",
              "3           120.88          120.88  ...     500            4\n",
              "4           120.88          120.88  ...       3            1\n",
              "\n",
              "[5 rows x 7 columns]"
            ]
          },
          "metadata": {
            "tags": []
          },
          "execution_count": 324
        }
      ]
    },
    {
      "cell_type": "code",
      "metadata": {
        "id": "dbVCNjWEADzy",
        "colab_type": "code",
        "colab": {}
      },
      "source": [
        "\n"
      ],
      "execution_count": 0,
      "outputs": []
    },
    {
      "cell_type": "code",
      "metadata": {
        "id": "Z8FlKRFTAD3b",
        "colab_type": "code",
        "colab": {}
      },
      "source": [
        "# Splitting the dataset into Train, Valid & test data \n",
        "valid_set_size_percentage = 10 \n",
        "test_set_size_percentage = 10 \n",
        "seq_len = 20 # taken sequence length as 20\n",
        "def load_data(a, seq_len):\n",
        "    data_raw = a.as_matrix() \n",
        "    data = [] \n",
        "    for index in range(len(data_raw) - seq_len): \n",
        "        data.append(data_raw[index: index + seq_len])\n",
        "    data = np.array(data);\n",
        "    valid_set_size = int(np.round(valid_set_size_percentage/100*data.shape[1]));  \n",
        "    test_set_size = int(np.round(test_set_size_percentage/100*data.shape[1]));\n",
        "    train_set_size = data.shape[0] - (valid_set_size + test_set_size);\n",
        "    x_train = data[:train_set_size,:-1,:]\n",
        "    y_train = data[:train_set_size,-1,:]\n",
        "    x_valid = data[train_set_size:train_set_size+valid_set_size,:-1,:]\n",
        "    y_valid = data[train_set_size:train_set_size+valid_set_size,-1,:]\n",
        "    x_test = data[train_set_size+valid_set_size:,:-1,:]\n",
        "    y_test = data[train_set_size+valid_set_size:,-1,:]\n",
        "    return [x_train, y_train, x_valid, y_valid, x_test, y_test]\n"
      ],
      "execution_count": 0,
      "outputs": []
    },
    {
      "cell_type": "code",
      "metadata": {
        "id": "NifQs4JTAD7C",
        "colab_type": "code",
        "outputId": "fca6e91b-f3a7-4066-b08d-fc5eba7c0a1e",
        "colab": {
          "base_uri": "https://localhost:8080/",
          "height": 191
        }
      },
      "source": [
        "\n",
        "x_train, y_train, x_valid, y_valid, x_test, y_test = load_data(a_norm, seq_len)\n",
        "print('x_train.shape = ',x_train.shape)\n",
        "print('y_train.shape = ', y_train.shape)\n",
        "print('x_valid.shape = ',x_valid.shape)\n",
        "print('y_valid.shape = ', y_valid.shape)\n",
        "print('x_test.shape = ', x_test.shape)\n",
        "print('y_test.shape = ',y_test.shape)\n",
        "\n"
      ],
      "execution_count": 326,
      "outputs": [
        {
          "output_type": "stream",
          "text": [
            "x_train.shape =  (388, 19, 7)\n",
            "y_train.shape =  (388, 7)\n",
            "x_valid.shape =  (2, 19, 7)\n",
            "y_valid.shape =  (2, 7)\n",
            "x_test.shape =  (2, 19, 7)\n",
            "y_test.shape =  (2, 7)\n"
          ],
          "name": "stdout"
        },
        {
          "output_type": "stream",
          "text": [
            "/usr/local/lib/python3.6/dist-packages/ipykernel_launcher.py:5: FutureWarning:\n",
            "\n",
            "Method .as_matrix will be removed in a future version. Use .values instead.\n",
            "\n"
          ],
          "name": "stderr"
        }
      ]
    },
    {
      "cell_type": "code",
      "metadata": {
        "id": "J4QjlC-WAEAE",
        "colab_type": "code",
        "colab": {}
      },
      "source": [
        "\n",
        "n_steps = seq_len-1 \n",
        "n_inputs = 7\n",
        "n_neurons = 20 \n",
        "n_outputs = 7\n",
        "n_layers = 20\n",
        "learning_rate = 0.001\n",
        "batch_size = 500\n",
        "n_epochs = 100\n",
        "train_set_size = x_train.shape[0]\n",
        "test_set_size = x_test.shape[0]\n",
        "tf.reset_default_graph()\n",
        "X = tf.placeholder(tf.float32, [None, n_steps, n_inputs])\n",
        "y = tf.placeholder(tf.float32, [None, n_outputs])"
      ],
      "execution_count": 0,
      "outputs": []
    },
    {
      "cell_type": "code",
      "metadata": {
        "id": "Ka1hFBy8AECl",
        "colab_type": "code",
        "colab": {}
      },
      "source": [
        "\n",
        "\n",
        "index_in_epoch = 0;\n",
        "perm_array  = np.arange(x_train.shape[0])\n",
        "np.random.shuffle(perm_array)\n",
        "\n",
        "def get_next_batch(batch_size):\n",
        "    global index_in_epoch, x_train, perm_array   \n",
        "    start = index_in_epoch\n",
        "    index_in_epoch += batch_size \n",
        "    if index_in_epoch > x_train.shape[0]:\n",
        "        np.random.shuffle(perm_array) # shuffle permutation array\n",
        "        start = 0 # start next epoch\n",
        "        index_in_epoch = batch_size     \n",
        "    end = index_in_epoch\n",
        "    return x_train[perm_array[start:end]], y_train[perm_array[start:end]]\n"
      ],
      "execution_count": 0,
      "outputs": []
    },
    {
      "cell_type": "code",
      "metadata": {
        "id": "QIm4EwhGAEHK",
        "colab_type": "code",
        "colab": {}
      },
      "source": [
        "\n",
        "#GRU \n",
        "layers = [tf.contrib.rnn.GRUCell(num_units=n_neurons, activation=tf.nn.relu)\n",
        "          for layer in range(n_layers)] "
      ],
      "execution_count": 0,
      "outputs": []
    },
    {
      "cell_type": "code",
      "metadata": {
        "id": "uG-Oil8gAENK",
        "colab_type": "code",
        "colab": {}
      },
      "source": [
        "                                                                  \n",
        "multi_layer_cell = tf.contrib.rnn.MultiRNNCell(layers)\n",
        "rnn_outputs, states = tf.nn.dynamic_rnn(multi_layer_cell, X, dtype=tf.float32)\n",
        "stacked_rnn_outputs = tf.reshape(rnn_outputs, [-1, n_neurons]) \n",
        "stacked_outputs = tf.layers.dense(stacked_rnn_outputs, n_outputs)\n",
        "outputs = tf.reshape(stacked_outputs, [-1, n_steps, n_outputs])\n",
        "outputs = outputs[:,n_steps-1,:]\n",
        "                                              "
      ],
      "execution_count": 0,
      "outputs": []
    },
    {
      "cell_type": "code",
      "metadata": {
        "id": "21bikMECAEQO",
        "colab_type": "code",
        "colab": {}
      },
      "source": [
        "# Cost function\n",
        "loss = tf.reduce_mean(tf.square(outputs - y))\n",
        "\n",
        "#optimizer\n",
        "optimizer = tf.train.AdamOptimizer(learning_rate=learning_rate) \n",
        "training_op = optimizer.minimize(loss)"
      ],
      "execution_count": 0,
      "outputs": []
    },
    {
      "cell_type": "code",
      "metadata": {
        "id": "9EWcxPvMxGA6",
        "colab_type": "code",
        "colab": {}
      },
      "source": [
        "\n"
      ],
      "execution_count": 0,
      "outputs": []
    },
    {
      "cell_type": "code",
      "metadata": {
        "id": "pcJoFQgZAES_",
        "colab_type": "code",
        "outputId": "e8704c6d-347f-4266-c9ca-d76a10fe9ff6",
        "colab": {
          "base_uri": "https://localhost:8080/",
          "height": 469
        }
      },
      "source": [
        "\n",
        "                                              \n",
        "# Fitting the model\n",
        "with tf.Session() as sess: \n",
        "    sess.run(tf.global_variables_initializer())\n",
        "    for iteration in range(int(n_epochs*train_set_size/batch_size)):\n",
        "        x_batch, y_batch = get_next_batch(batch_size) # fetch the next training batch \n",
        "        sess.run(training_op, feed_dict={X: x_batch, y: y_batch}) \n",
        "        if iteration % int(5*train_set_size/batch_size) == 0:\n",
        "            mse_train = loss.eval(feed_dict={X: x_train, y: y_train}) \n",
        "            mse_valid = loss.eval(feed_dict={X: x_valid, y: y_valid}) \n",
        "            print('%.2f epochs: MSE train/valid = %.6f/%.6f'%(\n",
        "                iteration*batch_size/train_set_size, mse_train, mse_valid))\n",
        "            \n",
        "            # Predictions\n",
        "    y_test_pred = sess.run(outputs,feed_dict={X: x_test})\n",
        "    "
      ],
      "execution_count": 332,
      "outputs": [
        {
          "output_type": "stream",
          "text": [
            "0.00 epochs: MSE train/valid = 57020260.000000/13888920.000000\n",
            "3.87 epochs: MSE train/valid = 57020204.000000/13888879.000000\n",
            "7.73 epochs: MSE train/valid = 57020140.000000/13888825.000000\n",
            "11.60 epochs: MSE train/valid = 57020068.000000/13888759.000000\n",
            "15.46 epochs: MSE train/valid = 57019964.000000/13888649.000000\n",
            "19.33 epochs: MSE train/valid = 57019764.000000/13888433.000000\n",
            "23.20 epochs: MSE train/valid = 57019380.000000/13887469.000000\n",
            "27.06 epochs: MSE train/valid = 57018352.000000/13880202.000000\n",
            "30.93 epochs: MSE train/valid = 57014968.000000/13868873.000000\n",
            "34.79 epochs: MSE train/valid = 57003792.000000/13845960.000000\n",
            "38.66 epochs: MSE train/valid = 56982244.000000/13792177.000000\n",
            "42.53 epochs: MSE train/valid = 56941116.000000/13629337.000000\n",
            "46.39 epochs: MSE train/valid = 56874596.000000/13314774.000000\n",
            "50.26 epochs: MSE train/valid = 56737568.000000/12361861.000000\n",
            "54.12 epochs: MSE train/valid = 56417128.000000/11164759.000000\n",
            "57.99 epochs: MSE train/valid = 55582224.000000/9497716.000000\n",
            "61.86 epochs: MSE train/valid = 54454892.000000/9644069.000000\n",
            "65.72 epochs: MSE train/valid = 53189812.000000/14366111.000000\n",
            "69.59 epochs: MSE train/valid = 52044524.000000/47021652.000000\n",
            "73.45 epochs: MSE train/valid = 53157672.000000/32959652.000000\n",
            "77.32 epochs: MSE train/valid = 52966396.000000/18639856.000000\n",
            "81.19 epochs: MSE train/valid = 52965684.000000/17996678.000000\n",
            "85.05 epochs: MSE train/valid = 52194476.000000/21735134.000000\n",
            "88.92 epochs: MSE train/valid = 52301904.000000/16159992.000000\n",
            "92.78 epochs: MSE train/valid = 53326908.000000/9753888.000000\n",
            "96.65 epochs: MSE train/valid = 51745788.000000/23593866.000000\n"
          ],
          "name": "stdout"
        }
      ]
    },
    {
      "cell_type": "code",
      "metadata": {
        "id": "a5I1-LtcAEVm",
        "colab_type": "code",
        "outputId": "1bf8f78b-e633-4b03-96d1-0a94356bd627",
        "colab": {
          "base_uri": "https://localhost:8080/",
          "height": 34
        }
      },
      "source": [
        "\n",
        "    \n",
        "#checking prediction output nos \n",
        "y_test_pred.shape\n"
      ],
      "execution_count": 333,
      "outputs": [
        {
          "output_type": "execute_result",
          "data": {
            "text/plain": [
              "(2, 7)"
            ]
          },
          "metadata": {
            "tags": []
          },
          "execution_count": 333
        }
      ]
    },
    {
      "cell_type": "code",
      "metadata": {
        "id": "F194mNxBAEX9",
        "colab_type": "code",
        "outputId": "711ba12c-faed-49d2-f34b-77440ca366d4",
        "colab": {
          "base_uri": "https://localhost:8080/",
          "height": 323
        }
      },
      "source": [
        "\n",
        "# ploting the graph\n",
        "comp = pd.DataFrame({'Column1':y_test[:,3],'Column3':y_test_pred[:,3]})\n",
        "plt.figure(figsize=(10,5))\n",
        "plt.plot(comp['Column1'], color='blue', label='Target')\n",
        "plt.plot(comp['Column3'], color='black', label='Prediction')\n",
        "plt.legend()\n",
        "plt.show()"
      ],
      "execution_count": 334,
      "outputs": [
        {
          "output_type": "display_data",
          "data": {
            "image/png": "[encoded data removed]",
            "text/plain": [
              "<Figure size 720x360 with 1 Axes>"
            ]
          },
          "metadata": {
            "tags": []
          }
        }
      ]
    },
    {
      "cell_type": "code",
      "metadata": {
        "id": "MeIQ92IjAEdH",
        "colab_type": "code",
        "colab": {}
      },
      "source": [
        ""
      ],
      "execution_count": 0,
      "outputs": []
    },
    {
      "cell_type": "code",
      "metadata": {
        "id": "rAjhz0i5AEfv",
        "colab_type": "code",
        "colab": {}
      },
      "source": [
        ""
      ],
      "execution_count": 0,
      "outputs": []
    }
  ]
}